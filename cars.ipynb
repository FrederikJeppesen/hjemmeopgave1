{
 "cells": [
  {
   "cell_type": "markdown",
   "metadata": {},
   "source": [
    "# Car pricing\n",
    "\n",
    "**Input data:** Frank Verboven's car dataset: https://sites.google.com/site/frankverbo/data-and-software/data-set-on-the-european-car-market"
   ]
  },
  {
   "cell_type": "code",
   "execution_count": 1,
   "metadata": {},
   "outputs": [],
   "source": [
    "import pandas as pd \n",
    "import numpy as np \n",
    "from statsmodels.formula.api import ols\n",
    "import matplotlib.pyplot as plt\n",
    "\n",
    "# various helper-files \n",
    "import cardata"
   ]
  },
  {
   "cell_type": "markdown",
   "metadata": {},
   "source": [
    "This switch controls whether to use the nested logit model or the simple conditional logit. More on this later. "
   ]
  },
  {
   "cell_type": "code",
   "execution_count": 2,
   "metadata": {},
   "outputs": [],
   "source": [
    "NESTEDLOGIT = True"
   ]
  },
  {
   "cell_type": "markdown",
   "metadata": {},
   "source": [
    "# Read in data"
   ]
  },
  {
   "cell_type": "code",
   "execution_count": 3,
   "metadata": {},
   "outputs": [],
   "source": [
    "cars = pd.read_excel('cars.xlsx')\n",
    "\n",
    "# pick regressors (NOTE: price variable must be first)\n",
    "xvars = ['eurpr', 'we', 'hp', 'li']\n",
    "zvars = [f'log_{x}' for x in xvars] # log versions \n",
    "cardata.process_data(cars, xvars)"
   ]
  },
  {
   "cell_type": "markdown",
   "metadata": {},
   "source": [
    "A quick peak at the market shares of different brands across countries. "
   ]
  },
  {
   "cell_type": "code",
   "execution_count": 4,
   "metadata": {},
   "outputs": [
    {
     "data": {
      "image/png": "[encoded data removed]",
      "text/plain": [
       "<Figure size 432x288 with 1 Axes>"
      ]
     },
     "metadata": {
      "needs_background": "light"
     },
     "output_type": "display_data"
    }
   ],
   "source": [
    "I = (cars.firm.isin(['VW', 'Fiat', 'Ford', 'Peugeot'])) & (cars.market.isin(['Germany', 'Italy', 'UK', 'France'])) \n",
    "ax = cars.loc[I].groupby(['firm', 'market']).market_share.mean().dropna().unstack().plot(kind='bar'); \n",
    "ax.legend(loc=(.7,.8)); \n",
    "ax.set_ylabel('Market share'); "
   ]
  },
  {
   "cell_type": "markdown",
   "metadata": {},
   "source": [
    "# Estimate model parameters"
   ]
  },
  {
   "cell_type": "code",
   "execution_count": 5,
   "metadata": {},
   "outputs": [
    {
     "name": "stdout",
     "output_type": "stream",
     "text": [
      "--- Parameter estimates (omitting fixed effects) ---\n",
      "log_eurpr                   -0.872476\n",
      "log_we                       2.394577\n",
      "log_hp                      -0.694630\n",
      "log_li                      -1.139342\n",
      "d_l_market_share_of_class    0.563120\n",
      "dtype: float64\n"
     ]
    }
   ],
   "source": [
    "betahat, xi, rho = cardata.estimate(cars, yvar='d_l_market_share', zvars=zvars, NESTEDLOGIT=NESTEDLOGIT)"
   ]
  },
  {
   "cell_type": "code",
   "execution_count": 6,
   "metadata": {},
   "outputs": [],
   "source": [
    "countries = np.sort(cars['ma'].unique())\n",
    "years     = np.sort(cars['ye'].unique())\n",
    "carcodes  = np.sort(cars['co'].unique())\n",
    "\n",
    "T = len(years)\n",
    "N = len(countries)\n",
    "J = len(carcodes)"
   ]
  },
  {
   "cell_type": "markdown",
   "metadata": {},
   "source": [
    "# From pandas to numpy\n",
    "\n",
    "Converting from a pandas dataframe (where the # of rows per country varies) to a balanced matrix format, where all data objects are `J*T*N`. \n",
    "\n",
    "**Results** in the matrices `s` (for market **s**hares), and `z` (for car characteristics), and `available`. "
   ]
  },
  {
   "cell_type": "code",
   "execution_count": 7,
   "metadata": {},
   "outputs": [],
   "source": [
    "cars = cars.set_index(['ma', 'ye', 'co']).sort_index()"
   ]
  },
  {
   "cell_type": "code",
   "execution_count": 8,
   "metadata": {},
   "outputs": [],
   "source": [
    "# matrix of market shares \n",
    "s = cardata.dataframe2matrix(cars, 'market_share', J,T,N)\n",
    "available = np.isnan(s) == False\n",
    "\n",
    "# matrix of car characteristics\n",
    "Nz = len(zvars)\n",
    "z = np.nan * np.zeros((Nz, J, T, N))\n",
    "for i,zvar in enumerate(zvars): \n",
    "    z[i, :,:,:] = cardata.dataframe2matrix(cars, zvar, J,T,N)"
   ]
  },
  {
   "cell_type": "markdown",
   "metadata": {},
   "source": [
    "Print avg. values of car characteristics (always good to check they are not badly scaled)"
   ]
  },
  {
   "cell_type": "code",
   "execution_count": 9,
   "metadata": {},
   "outputs": [
    {
     "name": "stdout",
     "output_type": "stream",
     "text": [
      "log_eurpr :   8.8239\n",
      "log_we    :  -0.0481\n",
      "log_hp    :   3.9580\n",
      "log_li    :   2.0808\n"
     ]
    }
   ],
   "source": [
    "zavg = np.nanmean(z.reshape(Nz, J*T*N), 1)\n",
    "for i,zvar in enumerate(zvars): \n",
    "    print(f'{zvar: <10}: {zavg[i]: 8.4f}')"
   ]
  },
  {
   "cell_type": "markdown",
   "metadata": {},
   "source": [
    "Useful to have a few neat variables in matrix form as well. In `cars`, they are in \"unbalanced\" form, so we transform them to the `J*T*N` matrices, which are in the logic of the logit model running in the background. "
   ]
  },
  {
   "cell_type": "code",
   "execution_count": 10,
   "metadata": {},
   "outputs": [],
   "source": [
    "firms    = cardata.dataframe2matrix(cars, 'firm', J, T, N)\n",
    "carclass = cardata.dataframe2matrix(cars, 'cla' , J, T, N)\n",
    "types    = cardata.dataframe2matrix(cars, 'type', J, T, N)"
   ]
  },
  {
   "cell_type": "markdown",
   "metadata": {},
   "source": [
    "Set up nests for nested logit if that is required. "
   ]
  },
  {
   "cell_type": "code",
   "execution_count": 11,
   "metadata": {},
   "outputs": [],
   "source": [
    "if NESTEDLOGIT: \n",
    "    nest_id = np.zeros((J,T,N), dtype=np.int)  # initialize\n",
    "    # overwrite for available and switch base 1 -> 0 \n",
    "    nest_id[available] = carclass[available]-1 \n",
    "else: \n",
    "    # then, choice_probs() will assume we are using regular logit\n",
    "    nest_id = None\n",
    "    rho = None"
   ]
  },
  {
   "cell_type": "markdown",
   "metadata": {},
   "source": [
    "# Setting up for price competition \n",
    "\n",
    "This section takes care of the setup required before we can investigate price competition among two cars. "
   ]
  },
  {
   "cell_type": "markdown",
   "metadata": {},
   "source": [
    "## Choosing `i,t,j1,j2`\n",
    "\n",
    "We first choose which two cars to focus on and in which market (`i`) and year (`t`)"
   ]
  },
  {
   "cell_type": "code",
   "execution_count": 12,
   "metadata": {},
   "outputs": [
    {
     "name": "stdout",
     "output_type": "stream",
     "text": [
      "--- Game takes place in 1999 in Germany (market size = 8,202,000)---\n"
     ]
    }
   ],
   "source": [
    "i = 2\n",
    "t = 29\n",
    "population = cars.loc[countries[i]].loc[years[t]]['pop'].unique()[0]\n",
    "print(f'--- Game takes place in {1970 + t} in {cardata.market_name[i]} (market size = {population:,.0f})---')\n",
    "\n",
    "j_possible = [j for j in range(J) if available[j,t,i]]\n",
    "j1 = 117\n",
    "j2 = 193"
   ]
  },
  {
   "cell_type": "code",
   "execution_count": 13,
   "metadata": {},
   "outputs": [],
   "source": [
    "# check we have not made a stupid choice \n",
    "for j in [j1, j2]: \n",
    "    assert available[j,t,i], f'Car {j} not available! Pick another'"
   ]
  },
  {
   "cell_type": "code",
   "execution_count": 14,
   "metadata": {},
   "outputs": [
    {
     "name": "stdout",
     "output_type": "stream",
     "text": [
      "Player 1 will be pricing opel astra           (j = 117), s =    2.81%, class compact, 230,224 cars sold\n",
      "Player 2 will be pricing volkswagen golf      (j = 193), s =    3.82%, class compact, 313,289 cars sold\n"
     ]
    }
   ],
   "source": [
    "carname1 = types[j1,t,i]\n",
    "class1 = cardata.class_name[(carclass[j1,t,i]-1).astype(int)]\n",
    "print(f'Player 1 will be pricing {carname1:<20} (j = {j1:3d}), s = {s[j1,t,i]*100.:7.2f}%, class {class1}, {(s[j1,t,i]*population).astype(int):,d} cars sold')\n",
    "\n",
    "carname2 = types[j2,t,i]\n",
    "class2 = cardata.class_name[(carclass[j2,t,i]-1).astype(int)]\n",
    "print(f'Player 2 will be pricing {carname2:<20} (j = {j2:3d}), s = {s[j2,t,i]*100.:7.2f}%, class {class2}, {(s[j2,t,i]*population).astype(int):,d} cars sold')"
   ]
  },
  {
   "cell_type": "markdown",
   "metadata": {},
   "source": [
    "## Marginal cost"
   ]
  },
  {
   "cell_type": "code",
   "execution_count": 15,
   "metadata": {},
   "outputs": [
    {
     "name": "stdout",
     "output_type": "stream",
     "text": [
      "In the data, the price is p1 =   10014.68 EUR for the opel astra\n",
      "In the data, the price is p1 =   10529.41 EUR for the volkswagen golf\n",
      "Assuming that marginal cost are 50% of baseline prices\n"
     ]
    }
   ],
   "source": [
    "i_p = 0 \n",
    "p1_data = np.exp(z[i_p,j1,t,i])\n",
    "p2_data = np.exp(z[i_p,j2,t,i])\n",
    "\n",
    "print(f'In the data, the price is p1 = {p1_data: 10.2f} EUR for the {carname1}')\n",
    "print(f'In the data, the price is p1 = {p2_data: 10.2f} EUR for the {carname2}')\n",
    "\n",
    "marc_cost_frac = 0.5\n",
    "print(f'Assuming that marginal cost are {marc_cost_frac:.0%} of baseline prices')\n",
    "c1 = p1_data*marc_cost_frac\n",
    "c2 = p2_data*marc_cost_frac"
   ]
  },
  {
   "cell_type": "markdown",
   "metadata": {},
   "source": [
    "## Firm payoffs\n",
    "\n",
    "Note: these are implicit functions of many other variables"
   ]
  },
  {
   "cell_type": "markdown",
   "metadata": {},
   "source": [
    "This function just calls `cardata.choice_prob()` and computes choice probabilities for *all* cars and selects the cells corresponding to our choice of `i,t,j1,j2`. "
   ]
  },
  {
   "cell_type": "code",
   "execution_count": 16,
   "metadata": {},
   "outputs": [
    {
     "name": "stdout",
     "output_type": "stream",
     "text": [
      "Price variable at index: 0\n"
     ]
    }
   ],
   "source": [
    "for i_p,v in enumerate(zvars): \n",
    "    if v == 'log_eurpr': \n",
    "        break\n",
    "print(f'Price variable at index: {i_p}')"
   ]
  },
  {
   "cell_type": "code",
   "execution_count": 17,
   "metadata": {},
   "outputs": [],
   "source": [
    "def compute_market_shares(p1,p2): \n",
    "    '''\n",
    "        INPUTS: \n",
    "            p1,p2: scalar, prices for firm 1 and 2 respectively \n",
    "        OUTPUTS: \n",
    "            s1,s2: scalars, market shares for firm 1 and 2 respectively \n",
    "    '''\n",
    "    \n",
    "    # 1. construct counterfactual z-matrix\n",
    "    z2 = np.copy(z)\n",
    "    z2[0,j1,t,i] = np.log(p1)\n",
    "    z2[0,j2,t,i] = np.log(p2)\n",
    "    \n",
    "    # 2. predict market shares \n",
    "    probs = cardata.choice_prob(xi, z2, betahat, available, rho, nest_id)\n",
    "    \n",
    "    # 3. return shares for selected cars \n",
    "    s1 = probs[j1,t,i]\n",
    "    s2 = probs[j2,t,i]\n",
    "    \n",
    "    return s1, s2\n",
    "\n",
    "def payoffs(p1,p2): \n",
    "    '''\n",
    "        INPUTS: \n",
    "            p1,p2: scalar, prices for firm 1 and 2 respectively \n",
    "        OUTPUTS: \n",
    "            pi1,pi2: scalars, market shares for firm 1 and 2 respectively \n",
    "    '''\n",
    "    s1,s2 = compute_market_shares(p1,p2)\n",
    "    \n",
    "    # profits in million EUR\n",
    "    pi1 = (p1-c1) * s1 * population / 1000000 \n",
    "    pi2 = (p2-c2) * s2 * population / 1000000 \n",
    "    \n",
    "    return pi1,pi2"
   ]
  },
  {
   "cell_type": "markdown",
   "metadata": {},
   "source": [
    "# Price competition"
   ]
  },
  {
   "cell_type": "markdown",
   "metadata": {},
   "source": [
    "Now that we have demand functions, we can investigate the elasticity of residual demand "
   ]
  },
  {
   "cell_type": "code",
   "execution_count": 18,
   "metadata": {},
   "outputs": [
    {
     "name": "stdout",
     "output_type": "stream",
     "text": [
      "elasticity, own   = -191.57%\n",
      "elasticity, cross =  0.052882%\n"
     ]
    }
   ],
   "source": [
    "# compute elasticity of demand \n",
    "s1,s2   = compute_market_shares(p1_data, p2_data)\n",
    "s1_,s2_ = compute_market_shares(p1_data*1.01, p2_data)\n",
    "\n",
    "own_elast   = (s1_ - s1)/s1 * (1.0 / 0.01)\n",
    "cross_elast = (s2_ - s2)/s2 * (1.0 / 0.01)\n",
    "print(f'elasticity, own   = {own_elast: 5.2%}')\n",
    "print(f'elasticity, cross = {s2_/s2-1.0: %}')"
   ]
  },
  {
   "cell_type": "code",
   "execution_count": 19,
   "metadata": {},
   "outputs": [],
   "source": [
    "s1,s2 = compute_market_shares(p1_data, p2_data)"
   ]
  },
  {
   "cell_type": "code",
   "execution_count": 20,
   "metadata": {},
   "outputs": [],
   "source": [
    "pi1, pi2 = payoffs(p1_data, p2_data)"
   ]
  },
  {
   "cell_type": "code",
   "execution_count": 21,
   "metadata": {},
   "outputs": [
    {
     "name": "stdout",
     "output_type": "stream",
     "text": [
      "Baseline predicted profits:\n",
      "1:    16.47 mio. EUR (opel astra)\n",
      "2:    14.67 mio. EUR (volkswagen golf)\n"
     ]
    }
   ],
   "source": [
    "print('Baseline predicted profits:')\n",
    "print(f'1: {pi1:8.2f} mio. EUR ({carname1})')\n",
    "print(f'2: {pi2:8.2f} mio. EUR ({carname2})')"
   ]
  },
  {
   "cell_type": "code",
   "execution_count": 22,
   "metadata": {},
   "outputs": [],
   "source": [
    "def payoff_i(p1, p2, i): \n",
    "        \n",
    "    pi1, pi2 = payoffs(p1, p2)\n",
    "    \n",
    "    if i == 1: \n",
    "        return pi1\n",
    "    else: \n",
    "        return pi2"
   ]
  },
  {
   "cell_type": "code",
   "execution_count": 26,
   "metadata": {},
   "outputs": [
    {
     "name": "stdout",
     "output_type": "stream",
     "text": [
      "At the outset, player 1 makes 16.47m EUR (predicted)\n"
     ]
    },
    {
     "data": {
      "image/png": "[encoded data removed]",
      "text/plain": [
       "<Figure size 432x288 with 1 Axes>"
      ]
     },
     "metadata": {
      "needs_background": "light"
     },
     "output_type": "display_data"
    }
   ],
   "source": [
    "goal = lambda p : payoff_i(p, p2_data, 1)\n",
    "\n",
    "print(f'At the outset, player 1 makes {goal(p1_data):5.2f}m EUR (predicted)')\n",
    "\n",
    "pp = np.linspace(c1, p1_data*3.0, 50)\n",
    "yy = np.empty(pp.shape)\n",
    "for ip,p in enumerate(pp): \n",
    "    yy[ip] = goal(p)\n",
    "    \n",
    "plt.plot(pp, yy); \n",
    "plt.axvline(p1_data, linestyle=':', c='gray', label='Actual price')\n",
    "plt.legend(loc='best'); \n",
    "plt.ylabel('Profit to player 1 (predicted) mio. EUR'); \n",
    "plt.title(f'Predicted profits for sales of {carname1}'); "
   ]
  }
 ],
 "metadata": {
  "kernelspec": {
   "display_name": "Python 3",
   "language": "python",
   "name": "python3"
  },
  "language_info": {
   "codemirror_mode": {
    "name": "ipython",
    "version": 3
   },
   "file_extension": ".py",
   "mimetype": "text/x-python",
   "name": "python",
   "nbconvert_exporter": "python",
   "pygments_lexer": "ipython3",
   "version": "3.8.2"
  }
 },
 "nbformat": 4,
 "nbformat_minor": 4
}
