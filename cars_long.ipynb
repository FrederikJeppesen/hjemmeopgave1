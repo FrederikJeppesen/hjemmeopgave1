{
 "cells": [
  {
   "cell_type": "markdown",
   "metadata": {},
   "source": [
    "# Car pricing\n",
    "\n",
    "**Input data:** Frank Verboven's car dataset: https://sites.google.com/site/frankverbo/data-and-software/data-set-on-the-european-car-market"
   ]
  },
  {
   "cell_type": "code",
   "execution_count": 1,
   "metadata": {},
   "outputs": [],
   "source": [
    "import pandas as pd \n",
    "import numpy as np \n",
    "from statsmodels.formula.api import ols\n",
    "import matplotlib.pyplot as plt\n",
    "\n",
    "# various helper-files \n",
    "import cardata"
   ]
  },
  {
   "cell_type": "markdown",
   "metadata": {},
   "source": [
    "This switch controls whether to use the nested logit model or the simple conditional logit. More on this later. "
   ]
  },
  {
   "cell_type": "code",
   "execution_count": 2,
   "metadata": {},
   "outputs": [],
   "source": [
    "NESTEDLOGIT = True"
   ]
  },
  {
   "cell_type": "markdown",
   "metadata": {
    "collapsed": "true"
   },
   "source": [
    "# Read in data"
   ]
  },
  {
   "cell_type": "code",
   "execution_count": 3,
   "metadata": {},
   "outputs": [],
   "source": [
    "cars = pd.read_excel('cars.xlsx')\n",
    "\n",
    "cars.sort_values(['ma', 'ye', 'co'], inplace=True)\n",
    "\n",
    "cars.we = cars.we / 1000 # rescale from kg to tonnes: more sensible coefs. \n",
    "\n",
    "market_name        = ['Belgium','France','Germany','Italy','UK']; \n",
    "class_name         = ['subcompact','compact','intermediate','standard','luxury']; \n",
    "origin_code_name   = ['France','Germany','Italy','JapanKorea','Spain','Sweden','UK','EasternEurope','US','Brazil']; \n",
    "location_code_name = ['Belgium','CheckRepublic','France','Germany','Italy','Japan','Korea','Netherlands','Romania','Spain','Sweden','UK','Russia','Yugoslavia','Poland','US','Finland','Australia','Hungary','Portugal','India','Mexico']; \n",
    "firm_code_name     = {1: 'AlfaRomeo', 2: 'BMW', 3: 'Toyota', 4: 'Fiat', 5: 'Ford', 6: 'Honda', 7: 'Hyundai', 8: 'DeTomaso', 9: 'Kia', 10: 'Lada', 11: 'Mazda', 12: 'Mercedes', 13: 'Mitsubishi', 14: 'Nissan', 15: 'GeneralMotors', 16: 'Peugeot', 17: 'Porsche', 18: 'Renault', 19: 'Rover', 20: 'Saab', 21: 'Seat', 22: 'AZNP', 23: 'FujiHI', 24: 'Suzuki', 25: 'Toyota', 26: 'VW', 27: 'Volvo', 28: 'Yugo', 29: 'Daewoo', 30: 'Daimler', 31: 'DAF', 32: 'Jaguar', 33: 'TalbotSimcaHillmanSunbeam', 34: 'TalbotMatra', 42: 'Lancia'}\n",
    "\n",
    "cars['market'] = cars['ma'].map({i+1:s for i,s in enumerate(market_name)}).astype('category')\n",
    "cars['car_class'] = cars['cla'].map({i+1:s for i,s in enumerate(class_name)}).astype('category')\n",
    "cars['firm'] = cars['frm'].map(firm_code_name).astype('category')\n",
    "cars['firm_country'] = cars['org'].map({i+1:s for i,s in enumerate(origin_code_name)}).astype('category')\n",
    "cars['firm_production'] = cars['loc'].map({i+1:s for i,s in enumerate(location_code_name)}).astype('category')\n",
    "\n",
    "cars.sort_values(['ma', 'ye', 'qu'], ascending=False, inplace=True)\n",
    "\n",
    "# Size of the market: this can have important bearings on the estimates. \n",
    "cars['pop'] = cars['pop']/10. # half are families, half are too young/too old, many do not consider a new car\n",
    "\n",
    "# sales in class: relevant \n",
    "cars['sum_qu'] = cars.groupby(['ma', 'ye']).qu.transform('sum') # sold cars in this market-year \n",
    "cars['sum_qu_class'] = cars.groupby(['ma', 'ye', 'cla']).qu.transform('sum') # sold cars in market-year-class \n",
    "cars['num_in_class'] = cars.groupby(['ma', 'ye', 'cla']).qu.transform('count')\n",
    "cars['market_share_of_class'] = cars['sum_qu_class'] / cars['sum_qu'] # share of sales to this class out of all sales\n",
    "#cars['market_share_in_class'] = cars['qu'] / cars['sum_qu_class'] # share of sales in class that goes to this car \n",
    "cars['market_share_inside'] = cars['qu'] / cars['sum_qu'] # share of sales going to this car \n",
    "cars['market_share'] = cars['qu'] / cars['pop'] # share of the market buying this particular car \n",
    "cars['market_share_outside'] = 1.0 - cars['sum_qu'] / cars['pop'] # share of the market not buying a car \n",
    "cars['d_l_market_share'] = np.log(cars['market_share']) - np.log(cars['market_share_outside'])\n",
    "cars['d_l_market_share_of_class'] = np.log(cars['market_share_of_class']) - np.log(cars['market_share_outside'])\n",
    "\n",
    "# compute logarithms \n",
    "xvars = ['eurpr', 'we', 'hp', 'li']\n",
    "zvars = [f'log_{x}' for x in xvars]\n",
    "Nz = len(zvars)\n",
    "for X in xvars: \n",
    "    cars[f'log_{X}'] = np.log(cars[X])\n",
    "cars['logpr'] = np.log(cars['eurpr'])\n",
    "cars['logqu'] = np.log(cars['qu'])\n",
    "\n",
    "#cars['log_market_share_in_class'] = np.log(cars['market_share_in_class'])"
   ]
  },
  {
   "cell_type": "markdown",
   "metadata": {},
   "source": [
    "Let's have a quick look at the data"
   ]
  },
  {
   "cell_type": "code",
   "execution_count": 4,
   "metadata": {},
   "outputs": [
    {
     "data": {
      "text/html": [
       "<div>\n",
       "<style scoped>\n",
       "    .dataframe tbody tr th:only-of-type {\n",
       "        vertical-align: middle;\n",
       "    }\n",
       "\n",
       "    .dataframe tbody tr th {\n",
       "        vertical-align: top;\n",
       "    }\n",
       "\n",
       "    .dataframe thead th {\n",
       "        text-align: right;\n",
       "    }\n",
       "</style>\n",
       "<table border=\"1\" class=\"dataframe\">\n",
       "  <thead>\n",
       "    <tr style=\"text-align: right;\">\n",
       "      <th></th>\n",
       "      <th>ye</th>\n",
       "      <th>ma</th>\n",
       "      <th>co</th>\n",
       "      <th>zcode</th>\n",
       "      <th>brd</th>\n",
       "      <th>type</th>\n",
       "      <th>brand</th>\n",
       "      <th>model</th>\n",
       "      <th>org</th>\n",
       "      <th>loc</th>\n",
       "      <th>...</th>\n",
       "      <th>market_share</th>\n",
       "      <th>market_share_outside</th>\n",
       "      <th>d_l_market_share</th>\n",
       "      <th>d_l_market_share_of_class</th>\n",
       "      <th>log_eurpr</th>\n",
       "      <th>log_we</th>\n",
       "      <th>log_hp</th>\n",
       "      <th>log_li</th>\n",
       "      <th>logpr</th>\n",
       "      <th>logqu</th>\n",
       "    </tr>\n",
       "  </thead>\n",
       "  <tbody>\n",
       "    <tr>\n",
       "      <th>11536</th>\n",
       "      <td>99</td>\n",
       "      <td>5</td>\n",
       "      <td>936</td>\n",
       "      <td>80</td>\n",
       "      <td>8</td>\n",
       "      <td>ford focus</td>\n",
       "      <td>ford</td>\n",
       "      <td>focus</td>\n",
       "      <td>7</td>\n",
       "      <td>4</td>\n",
       "      <td>...</td>\n",
       "      <td>0.017737</td>\n",
       "      <td>0.680438</td>\n",
       "      <td>-3.647097</td>\n",
       "      <td>-0.704995</td>\n",
       "      <td>9.640695</td>\n",
       "      <td>0.067659</td>\n",
       "      <td>3.988984</td>\n",
       "      <td>2.001480</td>\n",
       "      <td>9.640695</td>\n",
       "      <td>11.544695</td>\n",
       "    </tr>\n",
       "    <tr>\n",
       "      <th>9687</th>\n",
       "      <td>99</td>\n",
       "      <td>5</td>\n",
       "      <td>70</td>\n",
       "      <td>82</td>\n",
       "      <td>8</td>\n",
       "      <td>ford fiesta</td>\n",
       "      <td>ford</td>\n",
       "      <td>fiesta</td>\n",
       "      <td>7</td>\n",
       "      <td>12</td>\n",
       "      <td>...</td>\n",
       "      <td>0.017153</td>\n",
       "      <td>0.680438</td>\n",
       "      <td>-3.680568</td>\n",
       "      <td>-0.691615</td>\n",
       "      <td>9.116581</td>\n",
       "      <td>-0.072571</td>\n",
       "      <td>3.761200</td>\n",
       "      <td>2.032525</td>\n",
       "      <td>9.116581</td>\n",
       "      <td>11.511224</td>\n",
       "    </tr>\n",
       "    <tr>\n",
       "      <th>10371</th>\n",
       "      <td>99</td>\n",
       "      <td>5</td>\n",
       "      <td>177</td>\n",
       "      <td>197</td>\n",
       "      <td>19</td>\n",
       "      <td>opel astra</td>\n",
       "      <td>opel</td>\n",
       "      <td>astra</td>\n",
       "      <td>7</td>\n",
       "      <td>12</td>\n",
       "      <td>...</td>\n",
       "      <td>0.015816</td>\n",
       "      <td>0.680438</td>\n",
       "      <td>-3.761705</td>\n",
       "      <td>-0.704995</td>\n",
       "      <td>9.560684</td>\n",
       "      <td>0.099845</td>\n",
       "      <td>3.988984</td>\n",
       "      <td>2.120263</td>\n",
       "      <td>9.560684</td>\n",
       "      <td>11.430087</td>\n",
       "    </tr>\n",
       "  </tbody>\n",
       "</table>\n",
       "<p>3 rows × 67 columns</p>\n",
       "</div>"
      ],
      "text/plain": [
       "       ye  ma   co  zcode  brd         type brand   model  org  loc  ...  \\\n",
       "11536  99   5  936     80    8   ford focus  ford   focus    7    4  ...   \n",
       "9687   99   5   70     82    8  ford fiesta  ford  fiesta    7   12  ...   \n",
       "10371  99   5  177    197   19   opel astra  opel   astra    7   12  ...   \n",
       "\n",
       "       market_share  market_share_outside  d_l_market_share  \\\n",
       "11536      0.017737              0.680438         -3.647097   \n",
       "9687       0.017153              0.680438         -3.680568   \n",
       "10371      0.015816              0.680438         -3.761705   \n",
       "\n",
       "       d_l_market_share_of_class  log_eurpr    log_we    log_hp    log_li  \\\n",
       "11536                  -0.704995   9.640695  0.067659  3.988984  2.001480   \n",
       "9687                   -0.691615   9.116581 -0.072571  3.761200  2.032525   \n",
       "10371                  -0.704995   9.560684  0.099845  3.988984  2.120263   \n",
       "\n",
       "          logpr      logqu  \n",
       "11536  9.640695  11.544695  \n",
       "9687   9.116581  11.511224  \n",
       "10371  9.560684  11.430087  \n",
       "\n",
       "[3 rows x 67 columns]"
      ]
     },
     "execution_count": 4,
     "metadata": {},
     "output_type": "execute_result"
    }
   ],
   "source": [
    "cars.head(3)"
   ]
  },
  {
   "cell_type": "markdown",
   "metadata": {},
   "source": [
    "A quick peak at the market shares of different brands across countries. "
   ]
  },
  {
   "cell_type": "code",
   "execution_count": 5,
   "metadata": {},
   "outputs": [
    {
     "data": {
      "image/png": "[encoded data removed]",
      "text/plain": [
       "<Figure size 432x288 with 1 Axes>"
      ]
     },
     "metadata": {
      "needs_background": "light"
     },
     "output_type": "display_data"
    }
   ],
   "source": [
    "I = (cars.firm.isin(['VW', 'Fiat', 'Ford', 'Peugeot'])) & (cars.market.isin(['Germany', 'Italy', 'UK', 'France'])) \n",
    "ax = cars.loc[I].groupby(['firm', 'market']).market_share.mean().dropna().unstack().plot(kind='bar'); \n",
    "ax.legend(loc=(.7,.8)); \n",
    "ax.set_ylabel('Market share'); \n",
    "plt.savefig('img/marketshares.pdf'); "
   ]
  },
  {
   "cell_type": "markdown",
   "metadata": {},
   "source": [
    "# Estimation"
   ]
  },
  {
   "cell_type": "markdown",
   "metadata": {},
   "source": [
    "## Logit\n",
    "\n",
    "**Vanilla logit** models can be estimated by noting that the choice probabilities \n",
    "$$ \\Pr(j) = \\frac{\\exp(v_{ij}) }{\\sum_{k=0}^J \\exp(v_{ik})} $$\n",
    "implies that \"log differences\" cancel out the denominator: \n",
    "$$ \\log \\Pr(j) - \\log \\Pr(0) = v_{ij} - v_{i0} $$ \n",
    "Since we \"observe\" choice probabilities in the form of market shares, this suggests regressing log differences in market shares on characteristics (if we suppose that the outside option has $v_{i0} = 0$). \n",
    "\n",
    "## Nested logit\n",
    "\n",
    "**Nested logit** The nested logit model allows for cars within the same \"nest\" to be closer substitutes than cars from different nests. For example, if the price increases on one subcompact, I may be more likely to switch towards a different subcompact than towards an SUV, if I was already considering a subcompact. This could be allowed by letting the `class` (compact, subcompact, SUV, etc.) of a car be the nest and estimating a nested logit. \n",
    "\n",
    "The nested logit choice probabilities take the form \n",
    "$$ \\Pr(j) = \\frac{\n",
    "    \\exp(v_{ij} / \\rho) \\left( \\sum_{k \\in L(j)} \\exp( v_{ik}/\\rho) \\right)^{\\rho-1}\n",
    "        }{\n",
    "        \\sum_\\ell \\left(\\sum_{k \\in L_\\ell} \\exp(v_{ik}/\\rho) \\right)^\\rho \n",
    "        }. $$\n",
    "Fortunately, as we can see, this model can also be estimated by OLS. To see this, subtract $\\log \\Pr(0)$ from $\\log \\Pr(j)$, which gives \n",
    "$$ \\log \\Pr(j) - \\log \\Pr(0) = v_{ij} - v_{i0} + \\log I[L(j)] - \\log I[L(0)], $$\n",
    "where \n",
    "$$ I[L_\\ell] \\equiv \\left( \\sum_{k \\in L_\\ell} \\exp( v_{ik}/\\rho) \\right)^{\\rho-1} $$ \n",
    "So that \n",
    "$$ \\log I[L(j)] - \\log I[L(0)] = \\log \\frac{\\Pr(\\text{nest }j)}{\\Pr(\\text{nest } 0)} $$"
   ]
  },
  {
   "cell_type": "code",
   "execution_count": 6,
   "metadata": {},
   "outputs": [
    {
     "name": "stdout",
     "output_type": "stream",
     "text": [
      "--- Parameter estimates (omitting fixed effects) ---\n"
     ]
    },
    {
     "data": {
      "text/plain": [
       "log_eurpr                   -0.872476\n",
       "log_we                       2.394577\n",
       "log_hp                      -0.694630\n",
       "log_li                      -1.139342\n",
       "d_l_market_share_of_class    0.563120\n",
       "dtype: float64"
      ]
     },
     "execution_count": 6,
     "metadata": {},
     "output_type": "execute_result"
    }
   ],
   "source": [
    "print_these = [z_ for z_ in zvars] \n",
    "if NESTEDLOGIT: \n",
    "    # include the market share of the class of the car as a regressor\n",
    "    m = ols('d_l_market_share ~ log_eurpr + log_we + log_li + log_hp + d_l_market_share_of_class + C(frm) + C(ye) + C(ma)', \n",
    "        data=cars.reset_index())\n",
    "    print_these = print_these + ['d_l_market_share_of_class']\n",
    "else: \n",
    "    m = ols('d_l_market_share ~ log_eurpr + log_we + log_li + log_hp + C(frm) + C(ye) + C(ma)', \n",
    "        data=cars.reset_index())\n",
    "res = m.fit()\n",
    "\n",
    "#res.summary()\n",
    "print(f'--- Parameter estimates (omitting fixed effects) ---')\n",
    "res.params.loc[print_these]"
   ]
  },
  {
   "cell_type": "code",
   "execution_count": 7,
   "metadata": {},
   "outputs": [],
   "source": [
    "countries = np.sort(cars['ma'].unique())\n",
    "years     = np.sort(cars['ye'].unique())\n",
    "carcodes  = np.sort(cars['co'].unique())\n",
    "\n",
    "T = len(years)\n",
    "N = len(countries)\n",
    "J = len(carcodes)"
   ]
  },
  {
   "cell_type": "markdown",
   "metadata": {},
   "source": [
    "Extract coefficients on the car characteristics, $\\hat{\\beta}$. "
   ]
  },
  {
   "cell_type": "code",
   "execution_count": 8,
   "metadata": {},
   "outputs": [],
   "source": [
    "betahat = res.params.loc[zvars]"
   ]
  },
  {
   "cell_type": "markdown",
   "metadata": {},
   "source": [
    "Extract $\\hat{\\xi}_{jti} \\equiv \\hat{\\eta}_{\\text{firm}(jti)} + \\hat{\\eta}_{t} + \\hat{\\eta}_i$, i.e. it is the sum of the fixed effects. "
   ]
  },
  {
   "cell_type": "code",
   "execution_count": 9,
   "metadata": {},
   "outputs": [
    {
     "name": "stdout",
     "output_type": "stream",
     "text": [
      "Year 70 not in coef\n",
      "Market 1 not in coef\n"
     ]
    }
   ],
   "source": [
    "xi = cardata.compute_xi_from_estimates(res, cars, fixed_effects=['frm', 'ye', 'ma'])"
   ]
  },
  {
   "cell_type": "markdown",
   "metadata": {},
   "source": [
    "# From pandas to numpy\n",
    "\n",
    "Converting from a pandas dataframe (where the # of rows per country varies) to a balanced matrix format, where all data objects are `J*T*N`. \n",
    "\n",
    "**Results** in the matrices `s` (for market **s**hares), and `z` (for car characteristics), and `available`. "
   ]
  },
  {
   "cell_type": "code",
   "execution_count": 10,
   "metadata": {},
   "outputs": [],
   "source": [
    "cars = cars.set_index(['ma', 'ye', 'co']).sort_index()"
   ]
  },
  {
   "cell_type": "code",
   "execution_count": 11,
   "metadata": {},
   "outputs": [],
   "source": [
    "# matrix of market shares \n",
    "s = cardata.dataframe2matrix(cars, 'market_share', J,T,N)\n",
    "available = np.isnan(s) == False\n",
    "\n",
    "# matrix of car characteristics\n",
    "z = np.nan * np.zeros((Nz, J, T, N))\n",
    "for i,zvar in enumerate(zvars): \n",
    "    z[i, :,:,:] = cardata.dataframe2matrix(cars, zvar, J,T,N)"
   ]
  },
  {
   "cell_type": "markdown",
   "metadata": {},
   "source": [
    "Print avg. values of car characteristics (always good to check they are not badly scaled)"
   ]
  },
  {
   "cell_type": "code",
   "execution_count": 12,
   "metadata": {},
   "outputs": [
    {
     "name": "stdout",
     "output_type": "stream",
     "text": [
      "log_eurpr :   8.8239\n",
      "log_we    :  -0.0481\n",
      "log_hp    :   3.9580\n",
      "log_li    :   2.0808\n"
     ]
    }
   ],
   "source": [
    "zavg = np.nanmean(z.reshape(Nz, J*T*N), 1)\n",
    "for i,zvar in enumerate(zvars): \n",
    "    print(f'{zvar: <10}: {zavg[i]: 8.4f}')"
   ]
  },
  {
   "cell_type": "markdown",
   "metadata": {},
   "source": [
    "Useful to have a few neat variables in matrix form as well. In `cars`, they are in \"unbalanced\" form, so we transform them to the `J*T*N` matrices, which are in the logic of the logit model running in the background. "
   ]
  },
  {
   "cell_type": "code",
   "execution_count": 13,
   "metadata": {},
   "outputs": [],
   "source": [
    "firms    = cardata.dataframe2matrix(cars, 'firm', J, T, N)\n",
    "carclass = cardata.dataframe2matrix(cars, 'cla' , J, T, N)\n",
    "types    = cardata.dataframe2matrix(cars, 'type', J, T, N)"
   ]
  },
  {
   "cell_type": "markdown",
   "metadata": {},
   "source": [
    "## Checking the fit of the model"
   ]
  },
  {
   "cell_type": "code",
   "execution_count": 14,
   "metadata": {},
   "outputs": [
    {
     "data": {
      "text/plain": [
       "0.679379642516885"
      ]
     },
     "execution_count": 14,
     "metadata": {},
     "output_type": "execute_result"
    }
   ],
   "source": [
    "cars.market_share_outside.mean()"
   ]
  },
  {
   "cell_type": "code",
   "execution_count": 15,
   "metadata": {},
   "outputs": [],
   "source": [
    "betahat = res.params.loc[zvars] # use OLS estimatse "
   ]
  },
  {
   "cell_type": "code",
   "execution_count": 16,
   "metadata": {},
   "outputs": [],
   "source": [
    "probs = cardata.choice_prob(xi,z,betahat,available)"
   ]
  },
  {
   "cell_type": "code",
   "execution_count": 36,
   "metadata": {},
   "outputs": [
    {
     "name": "stdout",
     "output_type": "stream",
     "text": [
      "At chosen parameters,  99.98% choose no car. In the data: 67.94%\n"
     ]
    }
   ],
   "source": [
    "Pr_nocar = (1.0-probs.sum(0)).mean()\n",
    "print(f'At chosen parameters, {Pr_nocar: .2%} choose no car. In the data: {cars.market_share_outside.mean():.2%}')"
   ]
  },
  {
   "cell_type": "code",
   "execution_count": 18,
   "metadata": {},
   "outputs": [],
   "source": [
    "def compute_fit(beta): \n",
    "    probs = cardata.choice_prob(xi, z, beta, available)\n",
    "    tab = pd.DataFrame(zip(probs[available], s[available], firms[available], types[available]),\n",
    "            columns=['pred', 'market share', 'firm', 'type'])\n",
    "    return tab"
   ]
  },
  {
   "cell_type": "markdown",
   "metadata": {},
   "source": [
    "Show model fit for a few cars"
   ]
  },
  {
   "cell_type": "code",
   "execution_count": 19,
   "metadata": {},
   "outputs": [
    {
     "data": {
      "text/html": [
       "<div>\n",
       "<style scoped>\n",
       "    .dataframe tbody tr th:only-of-type {\n",
       "        vertical-align: middle;\n",
       "    }\n",
       "\n",
       "    .dataframe tbody tr th {\n",
       "        vertical-align: top;\n",
       "    }\n",
       "\n",
       "    .dataframe thead th {\n",
       "        text-align: right;\n",
       "    }\n",
       "</style>\n",
       "<table border=\"1\" class=\"dataframe\">\n",
       "  <thead>\n",
       "    <tr style=\"text-align: right;\">\n",
       "      <th></th>\n",
       "      <th>pred</th>\n",
       "      <th>market share</th>\n",
       "      <th>firm</th>\n",
       "      <th>type</th>\n",
       "    </tr>\n",
       "  </thead>\n",
       "  <tbody>\n",
       "    <tr>\n",
       "      <th>3516</th>\n",
       "      <td>0.000002</td>\n",
       "      <td>0.000246</td>\n",
       "      <td>Fiat</td>\n",
       "      <td>lancia delta</td>\n",
       "    </tr>\n",
       "    <tr>\n",
       "      <th>4427</th>\n",
       "      <td>0.000002</td>\n",
       "      <td>0.000468</td>\n",
       "      <td>Mitsubishi</td>\n",
       "      <td>mitsubishi colt</td>\n",
       "    </tr>\n",
       "    <tr>\n",
       "      <th>867</th>\n",
       "      <td>0.000006</td>\n",
       "      <td>0.000064</td>\n",
       "      <td>Peugeot</td>\n",
       "      <td>citroen 2 CV 6 - 2 CV 4</td>\n",
       "    </tr>\n",
       "    <tr>\n",
       "      <th>9905</th>\n",
       "      <td>0.000004</td>\n",
       "      <td>0.000698</td>\n",
       "      <td>VW</td>\n",
       "      <td>audi ro 80</td>\n",
       "    </tr>\n",
       "    <tr>\n",
       "      <th>9263</th>\n",
       "      <td>0.000002</td>\n",
       "      <td>0.004219</td>\n",
       "      <td>Volvo</td>\n",
       "      <td>volvo 340</td>\n",
       "    </tr>\n",
       "  </tbody>\n",
       "</table>\n",
       "</div>"
      ],
      "text/plain": [
       "          pred  market share        firm                     type\n",
       "3516  0.000002      0.000246        Fiat             lancia delta\n",
       "4427  0.000002      0.000468  Mitsubishi          mitsubishi colt\n",
       "867   0.000006      0.000064     Peugeot  citroen 2 CV 6 - 2 CV 4\n",
       "9905  0.000004      0.000698          VW               audi ro 80\n",
       "9263  0.000002      0.004219       Volvo                volvo 340"
      ]
     },
     "execution_count": 19,
     "metadata": {},
     "output_type": "execute_result"
    }
   ],
   "source": [
    "compute_fit(betahat).sample(5, random_state=1)"
   ]
  },
  {
   "cell_type": "markdown",
   "metadata": {},
   "source": [
    "# Setting up for price competition \n",
    "\n",
    "This section takes care of the setup required before we can investigate price competition among two cars. "
   ]
  },
  {
   "cell_type": "markdown",
   "metadata": {},
   "source": [
    "## Choosing `i,t,j1,j2`\n",
    "\n",
    "We first choose which two cars to focus on and in which market (`i`) and year (`t`)"
   ]
  },
  {
   "cell_type": "code",
   "execution_count": 20,
   "metadata": {},
   "outputs": [
    {
     "name": "stdout",
     "output_type": "stream",
     "text": [
      "--- Game takes place in 99 in Germany (market size = 8,202,000)---\n"
     ]
    }
   ],
   "source": [
    "i = 2\n",
    "t = 29\n",
    "population = cars.loc[countries[i]].loc[years[t]]['pop'].unique()[0]\n",
    "print(f'--- Game takes place in {years[t]} in {market_name[i]} (market size = {population:,.0f})---')\n",
    "\n",
    "j_possible = [j for j in range(J) if available[j,t,i]]\n",
    "j1 = 117\n",
    "j2 = 193"
   ]
  },
  {
   "cell_type": "code",
   "execution_count": 21,
   "metadata": {},
   "outputs": [],
   "source": [
    "# check we have not made a stupid choice \n",
    "for j in [j1, j2]: \n",
    "    assert available[j,t,i], f'Car {j} not available! Pick another'"
   ]
  },
  {
   "cell_type": "code",
   "execution_count": 22,
   "metadata": {},
   "outputs": [
    {
     "name": "stdout",
     "output_type": "stream",
     "text": [
      "Player 1 will be pricing opel astra           (j = 117), s =    2.81%, class compact, 230,224 cars sold\n",
      "Player 2 will be pricing volkswagen golf      (j = 193), s =    3.82%, class compact, 313,289 cars sold\n"
     ]
    }
   ],
   "source": [
    "carname1 = types[j1,t,i]\n",
    "class1 = class_name[(carclass[j1,t,i]-1).astype(int)]\n",
    "print(f'Player 1 will be pricing {carname1:<20} (j = {j1:3d}), s = {s[j1,t,i]*100.:7.2f}%, class {class1}, {(s[j1,t,i]*population).astype(int):,d} cars sold')\n",
    "\n",
    "carname2 = types[j2,t,i]\n",
    "class2 = class_name[(carclass[j2,t,i]-1).astype(int)]\n",
    "print(f'Player 2 will be pricing {carname2:<20} (j = {j2:3d}), s = {s[j2,t,i]*100.:7.2f}%, class {class2}, {(s[j2,t,i]*population).astype(int):,d} cars sold')"
   ]
  },
  {
   "cell_type": "code",
   "execution_count": 23,
   "metadata": {},
   "outputs": [],
   "source": [
    "# this resets the availability matrix \n",
    "available = (np.isnan(s) == False)\n",
    "\n",
    "# probs = cardata.choice_prob(xi, z, betahat, available)\n",
    "# print(f'total market share before: {probs[:, t, i ].sum(): 5.4%}')\n",
    "\n",
    "# #this code makes all cars except j1 and j2 unavailable\n",
    "# for j in range(J): \n",
    "#     if j not in [j1, j2]: \n",
    "#         available[j,t,i] = False\n",
    "\n",
    "# #and here is how much they would then sell \n",
    "# probs = cardata.choice_prob(xi, z, betahat, available)\n",
    "# print(f'total market share after: {probs[[j1, j2], t, i ].sum(): 5.4%}')"
   ]
  },
  {
   "cell_type": "markdown",
   "metadata": {
    "collapsed": "true"
   },
   "source": [
    "## Marginal cost"
   ]
  },
  {
   "cell_type": "code",
   "execution_count": 24,
   "metadata": {},
   "outputs": [
    {
     "name": "stdout",
     "output_type": "stream",
     "text": [
      "In the data, the price is p1 =   10014.68 EUR for the opel astra\n",
      "In the data, the price is p1 =   10529.41 EUR for the volkswagen golf\n",
      "Assuming that marginal cost are 50% of baseline prices\n"
     ]
    }
   ],
   "source": [
    "i_p = 0 \n",
    "p1_data = np.exp(z[i_p,j1,t,i])\n",
    "p2_data = np.exp(z[i_p,j2,t,i])\n",
    "\n",
    "print(f'In the data, the price is p1 = {p1_data: 10.2f} EUR for the {carname1}')\n",
    "print(f'In the data, the price is p1 = {p2_data: 10.2f} EUR for the {carname2}')\n",
    "\n",
    "marc_cost_frac = 0.5\n",
    "print(f'Assuming that marginal cost are {marc_cost_frac:.0%} of baseline prices')\n",
    "c1 = p1_data*marc_cost_frac\n",
    "c2 = p2_data*marc_cost_frac"
   ]
  },
  {
   "cell_type": "markdown",
   "metadata": {
    "collapsed": "true"
   },
   "source": [
    "## Firm payoffs\n",
    "\n",
    "Note: these are implicit functions of many other variables"
   ]
  },
  {
   "cell_type": "code",
   "execution_count": 25,
   "metadata": {},
   "outputs": [],
   "source": [
    "if NESTEDLOGIT: \n",
    "    # set up the IDs of the nests to which each car belongs \n",
    "    nest_id = np.zeros((J,T,N), dtype=np.int)\n",
    "    nest_id[available] = carclass[available]-1\n",
    "    \n",
    "    # nesting parameter determining correlation of shocks within nest \n",
    "    # rho = 1.0 indicates zero correlation within nests \n",
    "    rho = 1.0 - res.params.loc['d_l_market_share_of_class']\n",
    "    #rho = 0.1\n",
    "else: \n",
    "    # then, choice_probs() will assume we are using regular logit\n",
    "    nest_id = None\n",
    "    rho = None"
   ]
  },
  {
   "cell_type": "markdown",
   "metadata": {},
   "source": [
    "This function just calls `cardata.choice_prob()` and computes choice probabilities for *all* cars and selects the cells corresponding to our choice of `i,t,j1,j2`. "
   ]
  },
  {
   "cell_type": "code",
   "execution_count": 26,
   "metadata": {},
   "outputs": [],
   "source": [
    "def compute_market_shares(p1,p2): \n",
    "    '''\n",
    "        INPUTS: \n",
    "            p1,p2: scalar, prices for firm 1 and 2 respectively \n",
    "        OUTPUTS: \n",
    "            s1,s2: scalars, market shares for firm 1 and 2 respectively \n",
    "    '''\n",
    "    \n",
    "    # 1. construct counterfactual z-matrix\n",
    "    z2 = np.copy(z)\n",
    "    z2[0,j1,t,i] = np.log(p1)\n",
    "    z2[0,j2,t,i] = np.log(p2)\n",
    "    \n",
    "    # 2. predict market shares \n",
    "    probs = cardata.choice_prob(xi, z2, betahat, available, rho, nest_id)\n",
    "    \n",
    "    # 3. return shares for selected cars \n",
    "    s1 = probs[j1,t,i]\n",
    "    s2 = probs[j2,t,i]\n",
    "    \n",
    "    return s1, s2\n",
    "\n",
    "def payoffs(p1,p2): \n",
    "    '''\n",
    "        INPUTS: \n",
    "            p1,p2: scalar, prices for firm 1 and 2 respectively \n",
    "        OUTPUTS: \n",
    "            pi1,pi2: scalars, market shares for firm 1 and 2 respectively \n",
    "    '''\n",
    "    s1,s2 = compute_market_shares(p1,p2)\n",
    "    \n",
    "    # profits in million EUR\n",
    "    pi1 = (p1-c1) * s1 * population / 1000000 \n",
    "    pi2 = (p2-c2) * s2 * population / 1000000 \n",
    "    \n",
    "    return pi1,pi2"
   ]
  },
  {
   "cell_type": "markdown",
   "metadata": {
    "collapsed": "true"
   },
   "source": [
    "# Price competition"
   ]
  },
  {
   "cell_type": "markdown",
   "metadata": {},
   "source": [
    "Now that we have demand functions, we can investigate the elasticity of residual demand "
   ]
  },
  {
   "cell_type": "code",
   "execution_count": 27,
   "metadata": {},
   "outputs": [
    {
     "name": "stdout",
     "output_type": "stream",
     "text": [
      "elasticity, own   = -191.57%\n",
      "elasticity, cross =  0.052882%\n"
     ]
    }
   ],
   "source": [
    "# compute elasticity of demand \n",
    "s1,s2   = compute_market_shares(p1_data, p2_data)\n",
    "s1_,s2_ = compute_market_shares(p1_data*1.01, p2_data)\n",
    "\n",
    "own_elast   = (s1_ - s1)/s1 * (1.0 / 0.01)\n",
    "cross_elast = (s2_ - s2)/s2 * (1.0 / 0.01)\n",
    "print(f'elasticity, own   = {own_elast: 5.2%}')\n",
    "print(f'elasticity, cross = {s2_/s2-1.0: %}')"
   ]
  },
  {
   "cell_type": "code",
   "execution_count": 28,
   "metadata": {},
   "outputs": [],
   "source": [
    "s1,s2 = compute_market_shares(p1_data, p2_data)"
   ]
  },
  {
   "cell_type": "code",
   "execution_count": 29,
   "metadata": {},
   "outputs": [],
   "source": [
    "pi1, pi2 = payoffs(p1_data, p2_data)"
   ]
  },
  {
   "cell_type": "code",
   "execution_count": 30,
   "metadata": {},
   "outputs": [
    {
     "name": "stdout",
     "output_type": "stream",
     "text": [
      "Baseline predicted profits:\n",
      "1:    16.47 mio. EUR (opel astra)\n",
      "2:    14.67 mio. EUR (volkswagen golf)\n"
     ]
    }
   ],
   "source": [
    "print('Baseline predicted profits:')\n",
    "print(f'1: {pi1:8.2f} mio. EUR ({carname1})')\n",
    "print(f'2: {pi2:8.2f} mio. EUR ({carname2})')"
   ]
  },
  {
   "cell_type": "code",
   "execution_count": 31,
   "metadata": {},
   "outputs": [],
   "source": [
    "def payoff_i(p1, p2, i): \n",
    "        \n",
    "    pi1, pi2 = payoffs(p1, p2)\n",
    "    \n",
    "    if i == 1: \n",
    "        return pi1\n",
    "    else: \n",
    "        return pi2"
   ]
  },
  {
   "cell_type": "code",
   "execution_count": 32,
   "metadata": {},
   "outputs": [
    {
     "name": "stdout",
     "output_type": "stream",
     "text": [
      "At the outset, player 1 makes 16.47m EUR\n"
     ]
    },
    {
     "data": {
      "image/png": "[encoded data removed]",
      "text/plain": [
       "<Figure size 432x288 with 1 Axes>"
      ]
     },
     "metadata": {
      "needs_background": "light"
     },
     "output_type": "display_data"
    }
   ],
   "source": [
    "goal = lambda p : payoff_i(p, p2_data, 1)\n",
    "\n",
    "print(f'At the outset, player 1 makes {goal(p1_data):5.2f}m EUR')\n",
    "\n",
    "pp = np.linspace(c1, p1_data*3.0, 50)\n",
    "yy = np.empty(pp.shape)\n",
    "for ip,p in enumerate(pp): \n",
    "    yy[ip] = goal(p)\n",
    "    \n",
    "plt.plot(pp, yy); \n",
    "plt.plot(p1_data, goal(p1_data), 'or', label='Data'); "
   ]
  },
  {
   "cell_type": "code",
   "execution_count": 33,
   "metadata": {},
   "outputs": [
    {
     "data": {
      "image/png": "[encoded data removed]",
      "text/plain": [
       "<Figure size 432x288 with 1 Axes>"
      ]
     },
     "metadata": {
      "needs_background": "light"
     },
     "output_type": "display_data"
    }
   ],
   "source": [
    "for p1_ in [p1_data, 0.7*p1_data, 2.0*p1_data]: \n",
    "    goal = lambda p : payoff_i(p1_, p, 2)\n",
    "    \n",
    "    pp = np.linspace(c2, p2_data*3.0, 40)\n",
    "    yy = np.empty(pp.shape)\n",
    "    for ip,p in enumerate(pp): \n",
    "        yy[ip] = goal(p)\n",
    "\n",
    "    plt.plot(pp, yy, label=f'p1={p1_:,.0f}'); \n",
    "\n",
    "goal = lambda p : payoff_i(p1_data, p, 2)\n",
    "\n",
    "plt.plot(p2_data, goal(p2_data), 'or', label='Baseline'); \n",
    "plt.legend(); "
   ]
  }
 ],
 "metadata": {
  "kernelspec": {
   "display_name": "Python 3",
   "language": "python",
   "name": "python3"
  },
  "language_info": {
   "codemirror_mode": {
    "name": "ipython",
    "version": 3
   },
   "file_extension": ".py",
   "mimetype": "text/x-python",
   "name": "python",
   "nbconvert_exporter": "python",
   "pygments_lexer": "ipython3",
   "version": "3.8.2"
  }
 },
 "nbformat": 4,
 "nbformat_minor": 4
}
